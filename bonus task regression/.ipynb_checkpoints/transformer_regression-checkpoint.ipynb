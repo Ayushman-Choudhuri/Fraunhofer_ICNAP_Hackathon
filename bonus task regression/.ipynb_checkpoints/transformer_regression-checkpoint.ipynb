{
 "cells": [
  {
   "cell_type": "code",
   "execution_count": 142,
   "metadata": {
    "executionInfo": {
     "elapsed": 1447,
     "status": "ok",
     "timestamp": 1653163004672,
     "user": {
      "displayName": "Allwin Lucious",
      "userId": "07631666124098189466"
     },
     "user_tz": -120
    },
    "id": "euIz9eAyTMxk"
   },
   "outputs": [],
   "source": [
    "#Import Packages as needed\n",
    "from dataclasses import dataclass\n",
    "import os\n",
    "import numpy as np\n",
    "from sklearn.model_selection import train_test_split\n",
    "import pandas as pd\n",
    "import matplotlib.pyplot as plt\n",
    "from tensorflow import keras\n",
    "from tensorflow.keras import layers\n",
    "from keras_nlp.layers import SinePositionEncoding\n",
    "from sklearn.decomposition import PCA\n",
    "from sklearn.preprocessing import StandardScaler"
   ]
  },
  {
   "cell_type": "markdown",
   "metadata": {
    "id": "rXS-vWnyQx_F"
   },
   "source": [
    "**LOAD DATA**"
   ]
  },
  {
   "cell_type": "code",
   "execution_count": 63,
   "metadata": {
    "executionInfo": {
     "elapsed": 1346,
     "status": "ok",
     "timestamp": 1653163006016,
     "user": {
      "displayName": "Allwin Lucious",
      "userId": "07631666124098189466"
     },
     "user_tz": -120
    },
    "id": "veAcbOKKT66w"
   },
   "outputs": [],
   "source": [
    "df = pd.read_json(\"ipt_12.json\")\n"
   ]
  },
  {
   "cell_type": "markdown",
   "metadata": {
    "id": "4oRb2DL3Q6SM"
   },
   "source": [
    "**DATA EXPLORATION**\n"
   ]
  },
  {
   "cell_type": "code",
   "execution_count": 64,
   "metadata": {
    "colab": {
     "base_uri": "https://localhost:8080/"
    },
    "executionInfo": {
     "elapsed": 16,
     "status": "ok",
     "timestamp": 1653163006017,
     "user": {
      "displayName": "Allwin Lucious",
      "userId": "07631666124098189466"
     },
     "user_tz": -120
    },
    "id": "XYhm6C1aQ5Cq",
    "outputId": "8dbab8bc-03c8-44f8-90a1-9b914669c50f"
   },
   "outputs": [
    {
     "name": "stdout",
     "output_type": "stream",
     "text": [
      "(167, 13)\n",
      "<class 'pandas.core.frame.DataFrame'>\n",
      "Int64Index: 167 entries, 0 to 166\n",
      "Data columns (total 13 columns):\n",
      " #   Column       Non-Null Count  Dtype  \n",
      "---  ------       --------------  -----  \n",
      " 0   case         167 non-null    int64  \n",
      " 1   run          167 non-null    int64  \n",
      " 2   VB           146 non-null    float64\n",
      " 3   DOC          167 non-null    float64\n",
      " 4   time         167 non-null    int64  \n",
      " 5   material     167 non-null    int64  \n",
      " 6   feed         167 non-null    float64\n",
      " 7   smcAC        167 non-null    object \n",
      " 8   smcDC        167 non-null    object \n",
      " 9   vib_table    167 non-null    object \n",
      " 10  vib_spindle  167 non-null    object \n",
      " 11  AE_table     167 non-null    object \n",
      " 12  AE_spindle   167 non-null    object \n",
      "dtypes: float64(3), int64(4), object(6)\n",
      "memory usage: 18.3+ KB\n"
     ]
    }
   ],
   "source": [
    "print(df.shape)\n",
    "df.info()"
   ]
  },
  {
   "cell_type": "code",
   "execution_count": 65,
   "metadata": {
    "colab": {
     "base_uri": "https://localhost:8080/"
    },
    "executionInfo": {
     "elapsed": 16,
     "status": "ok",
     "timestamp": 1653163006019,
     "user": {
      "displayName": "Allwin Lucious",
      "userId": "07631666124098189466"
     },
     "user_tz": -120
    },
    "id": "nadc6logUapv",
    "outputId": "9f42c2c1-ced5-4f1c-f728-aa3a40883990"
   },
   "outputs": [
    {
     "data": {
      "text/plain": [
       "array([1, 2])"
      ]
     },
     "execution_count": 65,
     "metadata": {},
     "output_type": "execute_result"
    }
   ],
   "source": [
    "np.unique(df.material)  #The material variable only takes two variables"
   ]
  },
  {
   "cell_type": "code",
   "execution_count": 66,
   "metadata": {
    "colab": {
     "base_uri": "https://localhost:8080/"
    },
    "executionInfo": {
     "elapsed": 16,
     "status": "ok",
     "timestamp": 1653163006021,
     "user": {
      "displayName": "Allwin Lucious",
      "userId": "07631666124098189466"
     },
     "user_tz": -120
    },
    "id": "aJY3079vVoxH",
    "outputId": "17ccabb2-13a5-41f0-ed37-6de32097ae32"
   },
   "outputs": [
    {
     "name": "stdout",
     "output_type": "stream",
     "text": [
      "target min =  0.0\n",
      "target max =  1.53\n",
      "target mean =  0.33760273972602733\n",
      "target variance =  0.06741000656783637\n"
     ]
    }
   ],
   "source": [
    "#Analysis of the output target variable \n",
    "\n",
    "target = df.VB\n",
    "print(\"target min = \",min(target))\n",
    "print(\"target max = \",max(target))\n",
    "print(\"target mean = \",np.mean(target))\n",
    "print(\"target variance = \",np.var(target))"
   ]
  },
  {
   "cell_type": "markdown",
   "metadata": {
    "id": "4xsv04e4ReAz"
   },
   "source": [
    "**Observation**: Its observed that VB and run are highly correlated . Time and run is also highly correlated, hence dimensionality reduction could be applied."
   ]
  },
  {
   "cell_type": "markdown",
   "metadata": {
    "id": "bAKYV5yAagGF"
   },
   "source": [
    "**DATA PREPROCESSING**"
   ]
  },
  {
   "cell_type": "code",
   "execution_count": 68,
   "metadata": {
    "colab": {
     "base_uri": "https://localhost:8080/"
    },
    "executionInfo": {
     "elapsed": 14,
     "status": "ok",
     "timestamp": 1653163007087,
     "user": {
      "displayName": "Allwin Lucious",
      "userId": "07631666124098189466"
     },
     "user_tz": -120
    },
    "id": "Y_3mH45LameF",
    "outputId": "38fc8300-3e38-4fe2-ec35-3f2dad074d40"
   },
   "outputs": [
    {
     "name": "stdout",
     "output_type": "stream",
     "text": [
      "(146, 14)\n"
     ]
    }
   ],
   "source": [
    "# Remove samples which has NAN values \n",
    "df = df.dropna()\n",
    "df = df.reset_index()\n",
    "print(df.shape)"
   ]
  },
  {
   "cell_type": "markdown",
   "metadata": {
    "id": "6ybnk_DeY6_4"
   },
   "source": [
    "**PCA ANALYSIS**"
   ]
  },
  {
   "cell_type": "code",
   "execution_count": 35,
   "metadata": {
    "colab": {
     "base_uri": "https://localhost:8080/"
    },
    "executionInfo": {
     "elapsed": 13,
     "status": "ok",
     "timestamp": 1653163007088,
     "user": {
      "displayName": "Allwin Lucious",
      "userId": "07631666124098189466"
     },
     "user_tz": -120
    },
    "id": "a_oNXpV7YtTv",
    "outputId": "0f4d02d5-b872-4ecc-d12d-977e09bc5066"
   },
   "outputs": [
    {
     "data": {
      "text/plain": [
       "Index(['index', 'case', 'run', 'VB', 'DOC', 'time', 'material', 'feed',\n",
       "       'smcAC', 'smcDC', 'vib_table', 'vib_spindle', 'AE_table', 'AE_spindle'],\n",
       "      dtype='object')"
      ]
     },
     "execution_count": 35,
     "metadata": {},
     "output_type": "execute_result"
    }
   ],
   "source": [
    "df.columns"
   ]
  },
  {
   "cell_type": "code",
   "execution_count": 90,
   "metadata": {},
   "outputs": [
    {
     "name": "stdout",
     "output_type": "stream",
     "text": [
      "Correlation Matrix\n",
      "\n",
      "              case       run       DOC      time  material      feed\n",
      "case      1.000000  0.001273 -0.190007 -0.097283  0.480170 -0.220376\n",
      "run       0.001273  1.000000 -0.242757  0.945198 -0.250403 -0.053238\n",
      "DOC      -0.190007 -0.242757  1.000000 -0.217484 -0.062652  0.152552\n",
      "time     -0.097283  0.945198 -0.217484  1.000000 -0.434648 -0.089983\n",
      "material  0.480170 -0.250403 -0.062652 -0.434648  1.000000 -0.039640\n",
      "feed     -0.220376 -0.053238  0.152552 -0.089983 -0.039640  1.000000\n",
      "\n",
      " Final Data Frame after PCA Anaysis \n",
      "\n",
      "           pc1       pc2       pc3       pc4       pc5    VB\n",
      "0   -1.477380  2.514569 -0.124263  0.184014 -0.028704  0.00\n",
      "1   -0.968396  2.427279 -0.006992 -0.036247 -0.186995  0.11\n",
      "2   -0.500965  2.359379  0.085010 -0.223683 -0.310427  0.20\n",
      "3   -0.267249  2.325429  0.131011 -0.317401 -0.372143  0.24\n",
      "4   -0.060985  2.293559  0.174050 -0.402420 -0.430022  0.29\n",
      "..        ...       ...       ...       ...       ...   ...\n",
      "141 -1.398645 -1.428144 -0.681897 -1.608131 -0.267672  0.56\n",
      "142 -1.192382 -1.460014 -0.638858 -1.693150 -0.325551  0.70\n",
      "143 -2.365982 -0.629131  0.971481 -1.602255  0.391525  0.24\n",
      "144 -2.035809 -0.686631  1.048674 -1.746196  0.287277  0.40\n",
      "145 -1.829545 -0.718501  1.091713 -1.831215  0.229398  0.62\n",
      "\n",
      "[146 rows x 6 columns]\n"
     ]
    }
   ],
   "source": [
    "## extraction of dataframe containing features(non time series)\n",
    "\n",
    "df_nts = df[['case','run','DOC','time', 'material','feed']]\n",
    "\n",
    "##Spearman Correlation Analysis on the features which are not time series\n",
    "\n",
    "print(\"Correlation Matrix\\n\")\n",
    "print(df_nts.corr(method = \"spearman\"))\n",
    "\n",
    "## Data Standardisation to get data with mean 0 and variance of 1\n",
    "df_nts_std = StandardScaler().fit_transform(df_nts)\n",
    "\n",
    "## PCA Analysis\n",
    "\n",
    "pca = PCA(n_components=5)\n",
    "\n",
    "principalcomponents = pca.fit_transform(df_nts_std)\n",
    "\n",
    "principalDf = pd.DataFrame(data = principalcomponents, columns = ['pc1','pc2','pc3','pc4', 'pc5'] )\n",
    "\n",
    "final_PCA_Df = pd.concat([principalDf , df[['VB']]] , axis =1)\n",
    "\n",
    "\n",
    "print(\"\\n Final Data Frame after PCA Anaysis \\n\\n\" , final_PCA_Df)\n"
   ]
  },
  {
   "cell_type": "markdown",
   "metadata": {
    "id": "_A-BQTr7ZBA-"
   },
   "source": [
    "**DATA PREPARATION**\n"
   ]
  },
  {
   "cell_type": "code",
   "execution_count": 89,
   "metadata": {
    "executionInfo": {
     "elapsed": 12,
     "status": "ok",
     "timestamp": 1653163007088,
     "user": {
      "displayName": "Allwin Lucious",
      "userId": "07631666124098189466"
     },
     "user_tz": -120
    },
    "id": "_M1YPJBFjtyg"
   },
   "outputs": [],
   "source": [
    "df_ts = df[['smcAC',\n",
    "       'smcDC', 'vib_table', 'vib_spindle', 'AE_table', 'AE_spindle']]"
   ]
  },
  {
   "cell_type": "code",
   "execution_count": 92,
   "metadata": {},
   "outputs": [
    {
     "data": {
      "text/html": [
       "<div>\n",
       "<style scoped>\n",
       "    .dataframe tbody tr th:only-of-type {\n",
       "        vertical-align: middle;\n",
       "    }\n",
       "\n",
       "    .dataframe tbody tr th {\n",
       "        vertical-align: top;\n",
       "    }\n",
       "\n",
       "    .dataframe thead th {\n",
       "        text-align: right;\n",
       "    }\n",
       "</style>\n",
       "<table border=\"1\" class=\"dataframe\">\n",
       "  <thead>\n",
       "    <tr style=\"text-align: right;\">\n",
       "      <th></th>\n",
       "      <th>pc1</th>\n",
       "      <th>pc2</th>\n",
       "      <th>pc3</th>\n",
       "      <th>pc4</th>\n",
       "      <th>pc5</th>\n",
       "      <th>VB</th>\n",
       "      <th>smcAC</th>\n",
       "      <th>smcDC</th>\n",
       "      <th>vib_table</th>\n",
       "      <th>vib_spindle</th>\n",
       "      <th>AE_table</th>\n",
       "      <th>AE_spindle</th>\n",
       "    </tr>\n",
       "  </thead>\n",
       "  <tbody>\n",
       "    <tr>\n",
       "      <th>0</th>\n",
       "      <td>-1.477380</td>\n",
       "      <td>2.514569</td>\n",
       "      <td>-0.124263</td>\n",
       "      <td>0.184014</td>\n",
       "      <td>-0.028704</td>\n",
       "      <td>0.00</td>\n",
       "      <td>[-0.0170898438, 0.263671875, 0.2075195312, 0.3...</td>\n",
       "      <td>[0.625, 0.810546875, 0.7812500000000001, 0.849...</td>\n",
       "      <td>[0.078125, 0.0854492188, 0.078125, 0.073242187...</td>\n",
       "      <td>[0.3149414062, 0.3015136719, 0.3039550781, 0.3...</td>\n",
       "      <td>[0.0872802734, 0.0982666016, 0.0921630859, 0.0...</td>\n",
       "      <td>[0.1037597656, 0.1232910156, 0.1049804688, 0.1...</td>\n",
       "    </tr>\n",
       "    <tr>\n",
       "      <th>1</th>\n",
       "      <td>-0.968396</td>\n",
       "      <td>2.427279</td>\n",
       "      <td>-0.006992</td>\n",
       "      <td>-0.036247</td>\n",
       "      <td>-0.186995</td>\n",
       "      <td>0.11</td>\n",
       "      <td>[0.1123046875, 0.009765625, -0.1513671875, -0....</td>\n",
       "      <td>[0.1318359375, 0.3955078125, 0.7568359375, 0.8...</td>\n",
       "      <td>[0.0830078125, 0.0756835938, 0.0659179688, 0.0...</td>\n",
       "      <td>[0.3161621094, 0.3112792969, 0.302734375, 0.32...</td>\n",
       "      <td>[0.1129150391, 0.0994873047, 0.1049804688, 0.1...</td>\n",
       "      <td>[0.1397705078, 0.12145996090000001, 0.12451171...</td>\n",
       "    </tr>\n",
       "    <tr>\n",
       "      <th>2</th>\n",
       "      <td>-0.500965</td>\n",
       "      <td>2.359379</td>\n",
       "      <td>0.085010</td>\n",
       "      <td>-0.223683</td>\n",
       "      <td>-0.310427</td>\n",
       "      <td>0.20</td>\n",
       "      <td>[0.3295898438, 0.3076171875, 0.2709960938, 0.2...</td>\n",
       "      <td>[0.68359375, 0.87890625, 0.83984375, 0.9033203...</td>\n",
       "      <td>[0.0708007812, 0.0732421875, 0.0732421875, 0.0...</td>\n",
       "      <td>[0.3076171875, 0.3100585938, 0.3063964844, 0.3...</td>\n",
       "      <td>[0.1037597656, 0.0927734375, 0.0891113281, 0.0...</td>\n",
       "      <td>[0.1202392578, 0.10681152340000001, 0.09765625...</td>\n",
       "    </tr>\n",
       "    <tr>\n",
       "      <th>3</th>\n",
       "      <td>-0.267249</td>\n",
       "      <td>2.325429</td>\n",
       "      <td>0.131011</td>\n",
       "      <td>-0.317401</td>\n",
       "      <td>-0.372143</td>\n",
       "      <td>0.24</td>\n",
       "      <td>[-0.5786132812, -0.5834960938, -0.5224609375, ...</td>\n",
       "      <td>[1.3818359375, 1.396484375, 1.40625, 1.4208984...</td>\n",
       "      <td>[0.0659179688, 0.0659179688, 0.068359375, 0.06...</td>\n",
       "      <td>[0.322265625, 0.2990722656, 0.3137207031, 0.29...</td>\n",
       "      <td>[0.0909423828, 0.0726318359, 0.0823974609, 0.0...</td>\n",
       "      <td>[0.1239013672, 0.1013183594, 0.111694335900000...</td>\n",
       "    </tr>\n",
       "    <tr>\n",
       "      <th>4</th>\n",
       "      <td>-0.060985</td>\n",
       "      <td>2.293559</td>\n",
       "      <td>0.174050</td>\n",
       "      <td>-0.402420</td>\n",
       "      <td>-0.430022</td>\n",
       "      <td>0.29</td>\n",
       "      <td>[0.3002929688, 0.2563476562, 0.1708984375, 0.0...</td>\n",
       "      <td>[1.435546875, 1.4404296875, 1.4453125, 1.44531...</td>\n",
       "      <td>[0.0610351562, 0.0659179688, 0.0610351562, 0.0...</td>\n",
       "      <td>[0.3088378906, 0.3039550781, 0.3063964844, 0.2...</td>\n",
       "      <td>[0.0927734375, 0.0994873047, 0.09765625, 0.091...</td>\n",
       "      <td>[0.1086425781, 0.1245117188, 0.1141357422, 0.1...</td>\n",
       "    </tr>\n",
       "    <tr>\n",
       "      <th>...</th>\n",
       "      <td>...</td>\n",
       "      <td>...</td>\n",
       "      <td>...</td>\n",
       "      <td>...</td>\n",
       "      <td>...</td>\n",
       "      <td>...</td>\n",
       "      <td>...</td>\n",
       "      <td>...</td>\n",
       "      <td>...</td>\n",
       "      <td>...</td>\n",
       "      <td>...</td>\n",
       "      <td>...</td>\n",
       "    </tr>\n",
       "    <tr>\n",
       "      <th>141</th>\n",
       "      <td>-1.398645</td>\n",
       "      <td>-1.428144</td>\n",
       "      <td>-0.681897</td>\n",
       "      <td>-1.608131</td>\n",
       "      <td>-0.267672</td>\n",
       "      <td>0.56</td>\n",
       "      <td>[-0.1953125, -0.2294921875, -0.0439453125, 0.0...</td>\n",
       "      <td>[1.4013671875, 1.40625, 1.40625, 1.4013671875,...</td>\n",
       "      <td>[0.0634765625, 0.0610351562, 0.0634765625, 0.0...</td>\n",
       "      <td>[0.2856445312, 0.2880859375, 0.2807617188, 0.2...</td>\n",
       "      <td>[0.0836181641, 0.0866699219, 0.0854492188, 0.1...</td>\n",
       "      <td>[0.0939941406, 0.1031494141, 0.1019287109, 0.1...</td>\n",
       "    </tr>\n",
       "    <tr>\n",
       "      <th>142</th>\n",
       "      <td>-1.192382</td>\n",
       "      <td>-1.460014</td>\n",
       "      <td>-0.638858</td>\n",
       "      <td>-1.693150</td>\n",
       "      <td>-0.325551</td>\n",
       "      <td>0.70</td>\n",
       "      <td>[-0.68359375, -0.693359375, -0.546875, -0.3613...</td>\n",
       "      <td>[1.376953125, 1.38671875, 1.4013671875, 1.4111...</td>\n",
       "      <td>[0.056152343800000004, 0.0634765625, 0.0585937...</td>\n",
       "      <td>[0.2612304688, 0.263671875, 0.2697753906, 0.26...</td>\n",
       "      <td>[0.1025390625, 0.1141357422, 0.107421875, 0.10...</td>\n",
       "      <td>[0.1232910156, 0.1293945312, 0.1318359375, 0.1...</td>\n",
       "    </tr>\n",
       "    <tr>\n",
       "      <th>143</th>\n",
       "      <td>-2.365982</td>\n",
       "      <td>-0.629131</td>\n",
       "      <td>0.971481</td>\n",
       "      <td>-1.602255</td>\n",
       "      <td>0.391525</td>\n",
       "      <td>0.24</td>\n",
       "      <td>[-0.2001953125, -0.009765625, 0.0830078125, 0....</td>\n",
       "      <td>[1.40625, 1.4013671875, 1.396484375, 1.3867187...</td>\n",
       "      <td>[0.0659179688, 0.0708007812, 0.0634765625, 0.0...</td>\n",
       "      <td>[0.2795410156, 0.2844238281, 0.3015136719, 0.2...</td>\n",
       "      <td>[0.1147460938, 0.0952148438, 0.1019287109, 0.0...</td>\n",
       "      <td>[0.1397705078, 0.1123046875, 0.1202392578, 0.1...</td>\n",
       "    </tr>\n",
       "    <tr>\n",
       "      <th>144</th>\n",
       "      <td>-2.035809</td>\n",
       "      <td>-0.686631</td>\n",
       "      <td>1.048674</td>\n",
       "      <td>-1.746196</td>\n",
       "      <td>0.287277</td>\n",
       "      <td>0.40</td>\n",
       "      <td>[-0.205078125, -0.2392578125, -0.15625, 0.1269...</td>\n",
       "      <td>[1.3818359375, 1.38671875, 1.38671875, 1.38183...</td>\n",
       "      <td>[0.068359375, 0.05859375, 0.0708007812, 0.0659...</td>\n",
       "      <td>[0.2893066406, 0.3002929688, 0.2917480469, 0.3...</td>\n",
       "      <td>[0.0988769531, 0.0964355469, 0.0897216797, 0.0...</td>\n",
       "      <td>[0.1147460938, 0.1123046875, 0.106811523400000...</td>\n",
       "    </tr>\n",
       "    <tr>\n",
       "      <th>145</th>\n",
       "      <td>-1.829545</td>\n",
       "      <td>-0.718501</td>\n",
       "      <td>1.091713</td>\n",
       "      <td>-1.831215</td>\n",
       "      <td>0.229398</td>\n",
       "      <td>0.62</td>\n",
       "      <td>[-0.380859375, -0.24414062500000003, -0.136718...</td>\n",
       "      <td>[1.3818359375, 1.3916015625, 1.396484375, 1.39...</td>\n",
       "      <td>[0.0415039062, 0.0415039062, 0.0415039062, 0.0...</td>\n",
       "      <td>[0.29296875, 0.3051757812, 0.2856445312, 0.305...</td>\n",
       "      <td>[0.0756835938, 0.087890625, 0.0750732422, 0.07...</td>\n",
       "      <td>[0.0830078125, 0.0964355469, 0.0762939453, 0.0...</td>\n",
       "    </tr>\n",
       "  </tbody>\n",
       "</table>\n",
       "<p>146 rows × 12 columns</p>\n",
       "</div>"
      ],
      "text/plain": [
       "          pc1       pc2       pc3       pc4       pc5    VB  \\\n",
       "0   -1.477380  2.514569 -0.124263  0.184014 -0.028704  0.00   \n",
       "1   -0.968396  2.427279 -0.006992 -0.036247 -0.186995  0.11   \n",
       "2   -0.500965  2.359379  0.085010 -0.223683 -0.310427  0.20   \n",
       "3   -0.267249  2.325429  0.131011 -0.317401 -0.372143  0.24   \n",
       "4   -0.060985  2.293559  0.174050 -0.402420 -0.430022  0.29   \n",
       "..        ...       ...       ...       ...       ...   ...   \n",
       "141 -1.398645 -1.428144 -0.681897 -1.608131 -0.267672  0.56   \n",
       "142 -1.192382 -1.460014 -0.638858 -1.693150 -0.325551  0.70   \n",
       "143 -2.365982 -0.629131  0.971481 -1.602255  0.391525  0.24   \n",
       "144 -2.035809 -0.686631  1.048674 -1.746196  0.287277  0.40   \n",
       "145 -1.829545 -0.718501  1.091713 -1.831215  0.229398  0.62   \n",
       "\n",
       "                                                 smcAC  \\\n",
       "0    [-0.0170898438, 0.263671875, 0.2075195312, 0.3...   \n",
       "1    [0.1123046875, 0.009765625, -0.1513671875, -0....   \n",
       "2    [0.3295898438, 0.3076171875, 0.2709960938, 0.2...   \n",
       "3    [-0.5786132812, -0.5834960938, -0.5224609375, ...   \n",
       "4    [0.3002929688, 0.2563476562, 0.1708984375, 0.0...   \n",
       "..                                                 ...   \n",
       "141  [-0.1953125, -0.2294921875, -0.0439453125, 0.0...   \n",
       "142  [-0.68359375, -0.693359375, -0.546875, -0.3613...   \n",
       "143  [-0.2001953125, -0.009765625, 0.0830078125, 0....   \n",
       "144  [-0.205078125, -0.2392578125, -0.15625, 0.1269...   \n",
       "145  [-0.380859375, -0.24414062500000003, -0.136718...   \n",
       "\n",
       "                                                 smcDC  \\\n",
       "0    [0.625, 0.810546875, 0.7812500000000001, 0.849...   \n",
       "1    [0.1318359375, 0.3955078125, 0.7568359375, 0.8...   \n",
       "2    [0.68359375, 0.87890625, 0.83984375, 0.9033203...   \n",
       "3    [1.3818359375, 1.396484375, 1.40625, 1.4208984...   \n",
       "4    [1.435546875, 1.4404296875, 1.4453125, 1.44531...   \n",
       "..                                                 ...   \n",
       "141  [1.4013671875, 1.40625, 1.40625, 1.4013671875,...   \n",
       "142  [1.376953125, 1.38671875, 1.4013671875, 1.4111...   \n",
       "143  [1.40625, 1.4013671875, 1.396484375, 1.3867187...   \n",
       "144  [1.3818359375, 1.38671875, 1.38671875, 1.38183...   \n",
       "145  [1.3818359375, 1.3916015625, 1.396484375, 1.39...   \n",
       "\n",
       "                                             vib_table  \\\n",
       "0    [0.078125, 0.0854492188, 0.078125, 0.073242187...   \n",
       "1    [0.0830078125, 0.0756835938, 0.0659179688, 0.0...   \n",
       "2    [0.0708007812, 0.0732421875, 0.0732421875, 0.0...   \n",
       "3    [0.0659179688, 0.0659179688, 0.068359375, 0.06...   \n",
       "4    [0.0610351562, 0.0659179688, 0.0610351562, 0.0...   \n",
       "..                                                 ...   \n",
       "141  [0.0634765625, 0.0610351562, 0.0634765625, 0.0...   \n",
       "142  [0.056152343800000004, 0.0634765625, 0.0585937...   \n",
       "143  [0.0659179688, 0.0708007812, 0.0634765625, 0.0...   \n",
       "144  [0.068359375, 0.05859375, 0.0708007812, 0.0659...   \n",
       "145  [0.0415039062, 0.0415039062, 0.0415039062, 0.0...   \n",
       "\n",
       "                                           vib_spindle  \\\n",
       "0    [0.3149414062, 0.3015136719, 0.3039550781, 0.3...   \n",
       "1    [0.3161621094, 0.3112792969, 0.302734375, 0.32...   \n",
       "2    [0.3076171875, 0.3100585938, 0.3063964844, 0.3...   \n",
       "3    [0.322265625, 0.2990722656, 0.3137207031, 0.29...   \n",
       "4    [0.3088378906, 0.3039550781, 0.3063964844, 0.2...   \n",
       "..                                                 ...   \n",
       "141  [0.2856445312, 0.2880859375, 0.2807617188, 0.2...   \n",
       "142  [0.2612304688, 0.263671875, 0.2697753906, 0.26...   \n",
       "143  [0.2795410156, 0.2844238281, 0.3015136719, 0.2...   \n",
       "144  [0.2893066406, 0.3002929688, 0.2917480469, 0.3...   \n",
       "145  [0.29296875, 0.3051757812, 0.2856445312, 0.305...   \n",
       "\n",
       "                                              AE_table  \\\n",
       "0    [0.0872802734, 0.0982666016, 0.0921630859, 0.0...   \n",
       "1    [0.1129150391, 0.0994873047, 0.1049804688, 0.1...   \n",
       "2    [0.1037597656, 0.0927734375, 0.0891113281, 0.0...   \n",
       "3    [0.0909423828, 0.0726318359, 0.0823974609, 0.0...   \n",
       "4    [0.0927734375, 0.0994873047, 0.09765625, 0.091...   \n",
       "..                                                 ...   \n",
       "141  [0.0836181641, 0.0866699219, 0.0854492188, 0.1...   \n",
       "142  [0.1025390625, 0.1141357422, 0.107421875, 0.10...   \n",
       "143  [0.1147460938, 0.0952148438, 0.1019287109, 0.0...   \n",
       "144  [0.0988769531, 0.0964355469, 0.0897216797, 0.0...   \n",
       "145  [0.0756835938, 0.087890625, 0.0750732422, 0.07...   \n",
       "\n",
       "                                            AE_spindle  \n",
       "0    [0.1037597656, 0.1232910156, 0.1049804688, 0.1...  \n",
       "1    [0.1397705078, 0.12145996090000001, 0.12451171...  \n",
       "2    [0.1202392578, 0.10681152340000001, 0.09765625...  \n",
       "3    [0.1239013672, 0.1013183594, 0.111694335900000...  \n",
       "4    [0.1086425781, 0.1245117188, 0.1141357422, 0.1...  \n",
       "..                                                 ...  \n",
       "141  [0.0939941406, 0.1031494141, 0.1019287109, 0.1...  \n",
       "142  [0.1232910156, 0.1293945312, 0.1318359375, 0.1...  \n",
       "143  [0.1397705078, 0.1123046875, 0.1202392578, 0.1...  \n",
       "144  [0.1147460938, 0.1123046875, 0.106811523400000...  \n",
       "145  [0.0830078125, 0.0964355469, 0.0762939453, 0.0...  \n",
       "\n",
       "[146 rows x 12 columns]"
      ]
     },
     "metadata": {},
     "output_type": "display_data"
    }
   ],
   "source": [
    "df_update = pd.concat([final_PCA_Df,df_ts ], axis=1)\n",
    "\n",
    "display(df_update)\n"
   ]
  },
  {
   "cell_type": "code",
   "execution_count": 99,
   "metadata": {
    "executionInfo": {
     "elapsed": 11,
     "status": "ok",
     "timestamp": 1653163007088,
     "user": {
      "displayName": "Allwin Lucious",
      "userId": "07631666124098189466"
     },
     "user_tz": -120
    },
    "id": "NCcerNuu26pJ"
   },
   "outputs": [],
   "source": [
    "#Extract Feature Dataframe\n",
    "\n",
    "X = df_update[['pc1', 'pc2', 'pc4', 'pc4', 'pc5','smcAC','smcDC', 'vib_table', 'vib_spindle', 'AE_table', 'AE_spindle' ]]"
   ]
  },
  {
   "cell_type": "code",
   "execution_count": 104,
   "metadata": {},
   "outputs": [],
   "source": [
    "#Extract Reference Dataframe\n",
    "\n",
    "y = df_update[['VB']]"
   ]
  },
  {
   "cell_type": "code",
   "execution_count": 106,
   "metadata": {
    "colab": {
     "base_uri": "https://localhost:8080/"
    },
    "executionInfo": {
     "elapsed": 12,
     "status": "ok",
     "timestamp": 1653163007089,
     "user": {
      "displayName": "Allwin Lucious",
      "userId": "07631666124098189466"
     },
     "user_tz": -120
    },
    "id": "9TR4XrloLNh5",
    "outputId": "1f01fbd1-d336-4ab6-989e-f4872b3a9e56"
   },
   "outputs": [],
   "source": [
    "# Train and Test data split\n",
    "X_train, X_test, Y_train, Y_test = train_test_split(X, y, test_size=0.2, random_state=42)"
   ]
  },
  {
   "cell_type": "code",
   "execution_count": 125,
   "metadata": {},
   "outputs": [
    {
     "name": "stdout",
     "output_type": "stream",
     "text": [
      "116\n"
     ]
    }
   ],
   "source": [
    "X_train_ts = X_train[['smcAC','smcDC', 'vib_table', 'vib_spindle', 'AE_table', 'AE_spindle']]\n",
    "X_test_ts = X_test[['smcAC','smcDC', 'vib_table', 'vib_spindle', 'AE_table', 'AE_spindle']]\n",
    "\n",
    "X_train_nts = X_train[['pc1', 'pc2', 'pc4', 'pc4', 'pc5']]\n",
    "X_test_nts = X_test[['pc1', 'pc2', 'pc4', 'pc4', 'pc5']]\n",
    "\n",
    "print(len(X_train_ts))"
   ]
  },
  {
   "cell_type": "code",
   "execution_count": 140,
   "metadata": {},
   "outputs": [],
   "source": [
    "#Convert Time series Training dataframe into a 3 dimensional numpy array \n",
    "\n",
    "n_train = len(X_train_ts)\n",
    "n_ts_samples = 9000\n",
    "n_ts_features = len(X_train_ts.columns)\n",
    "\n",
    "X_train_ts_np = np.zeros((n_train,n_ts_samples,n_ts_features))\n",
    "\n",
    "index=0\n",
    "\n",
    "for col in ['smcAC','smcDC', 'vib_table', 'vib_spindle', 'AE_table', 'AE_spindle']:\n",
    "    \n",
    "  X_train_ts_np[:,:,index] = np.array(X_train_ts[col].to_list())\n",
    "  index += 1"
   ]
  },
  {
   "cell_type": "code",
   "execution_count": 141,
   "metadata": {
    "executionInfo": {
     "elapsed": 307,
     "status": "ok",
     "timestamp": 1653163035346,
     "user": {
      "displayName": "Allwin Lucious",
      "userId": "07631666124098189466"
     },
     "user_tz": -120
    },
    "id": "Rxd7JI6n3Xpt"
   },
   "outputs": [],
   "source": [
    "def transformer_encoder(inputs, head_size, num_heads, ff_dim, dropout=0):\n",
    "    # Normalization and Attention\n",
    "    x = layers.LayerNormalization(epsilon=1e-6)(inputs)\n",
    "    x = layers.MultiHeadAttention(\n",
    "        key_dim=head_size, num_heads=num_heads, dropout=dropout\n",
    "    )(x, x)\n",
    "    x = layers.Dropout(dropout)(x)\n",
    "    res = x + inputs\n",
    "\n",
    "    # Feed Forward Part\n",
    "    x = layers.LayerNormalization(epsilon=1e-6)(res)\n",
    "    x = layers.Conv1D(filters=ff_dim, kernel_size=1, activation=\"relu\")(x)\n",
    "    x = layers.Dropout(dropout)(x)\n",
    "    x = layers.Conv1D(filters=inputs.shape[-1], kernel_size=1)(x)\n",
    "    return x + res\n",
    "\n",
    "\n",
    "def build_model(\n",
    "    input_shape,\n",
    "    head_size,\n",
    "    num_heads,\n",
    "    ff_dim,\n",
    "    num_transformer_blocks,\n",
    "    mlp_units,\n",
    "    dropout=0,\n",
    "    mlp_dropout=0,\n",
    "):\n",
    "    inputs = keras.Input(shape=input_shape)\n",
    "    x = inputs\n",
    "    x_ = SinePositionEncoding()(x)\n",
    "    x= x + x_\n",
    "    \n",
    "    for _ in range(num_transformer_blocks):\n",
    "        x = transformer_encoder(x, head_size, num_heads, ff_dim, dropout)\n",
    "\n",
    "    x = layers.GlobalAveragePooling1D(data_format=\"channels_first\")(x)\n",
    "    for dim in mlp_units:\n",
    "        x = layers.Dense(dim, activation=\"relu\")(x)\n",
    "        x = layers.Dropout(mlp_dropout)(x)\n",
    "    outputs = layers.Dense(1)(x) #no activation\n",
    "    return keras.Model(inputs, outputs)\n",
    "\n",
    "def model_training(train):\n",
    "    \"\"\"\n",
    "    Train the data with the compatible model\n",
    "    \"\"\"\n",
    "    input_shape = X_train_ts_np.shape[1:]\n",
    "    model=build_model(\n",
    "                        input_shape,\n",
    "                        head_size=256,\n",
    "                        num_heads=4,\n",
    "                        ff_dim=4,\n",
    "                        num_transformer_blocks=4,\n",
    "                        mlp_units=[128],\n",
    "                        mlp_dropout=0.4,\n",
    "                        dropout=0.25,\n",
    "                     )\n",
    "    model.compile(\n",
    "                    loss='mean_squared_error',\n",
    "                    optimizer=keras.optimizers.Adam(learning_rate=1e-4),\n",
    "                    metrics=keras.metrics.MeanSquaredError(),\n",
    "    )\n",
    "    callbacks = [keras.callbacks.EarlyStopping(patience=10, restore_best_weights=True)]\n",
    "    \n",
    "    model.fit(\n",
    "                X_train_ts_np,\n",
    "                Y_train,\n",
    "                validation_split=0.2,\n",
    "                epochs=200,\n",
    "                batch_size=16,\n",
    "                callbacks=callbacks,\n",
    "    )\n",
    "    \n",
    "    \n",
    "    return model\n",
    "\n",
    "\n",
    "\n",
    "# def metric(validation_data, model):\n",
    "#     \"\"\"\n",
    "#     Standard metrics and plotting should be same\n",
    "#     Metrics should be computed on validation data(unseen data)\n",
    "#     1. Balanced accuracy score\n",
    "#     2. Confusion matrix\n",
    "#     3. Per-class accuracy\n",
    "#     \"\"\"\n",
    "#     X_val, Y_val = validation_data\n",
    "     #Y_pred = model.predict(X_val)> 0.5\n",
    "#     ba=balanced_accuracy_score(Y_val, Y_pred)\n",
    "#     cm=confusion_matrix(Y_val, Y_pred)\n",
    "#     # cm_display = ConfusionMatrixDisplay(cm).plot()\n",
    "#     metrics=[cm,ba]\n",
    "#     return metrics\n",
    "\n",
    "# def validation(metrics, metrics_validation):\n",
    "#     \"\"\"\n",
    "#     Comparing the results with provided Series Embedder\n",
    "#     Plot confusion matrices of self analysis and LSTM with balanced_accuracy\n",
    "    \n",
    "#     \"\"\"\n",
    "#     cm_model = ConfusionMatrixDisplay(metrics[0]).plot()\n",
    "#     cm_lstm = ConfusionMatrixDisplay(metrics_validation[0]).plot()\n",
    "\n",
    "    # metrics=metric(val,model_self)\n",
    "    \n",
    "#     lstm_cm,lstm_balanced_accuracy=lstm(preprocessed_data,target='labels')\n",
    "#     metrics_validation = [lstm_cm, lstm_balanced_accuracy]\n",
    "#     validation(metrics,metrics_validation) "
   ]
  },
  {
   "cell_type": "code",
   "execution_count": null,
   "metadata": {
    "colab": {
     "base_uri": "https://localhost:8080/"
    },
    "executionInfo": {
     "elapsed": 281,
     "status": "ok",
     "timestamp": 1653163037329,
     "user": {
      "displayName": "Allwin Lucious",
      "userId": "07631666124098189466"
     },
     "user_tz": -120
    },
    "id": "IYCpjXFv306P",
    "outputId": "6874faff-f295-4820-a23b-fbd72c8f7b21"
   },
   "outputs": [],
   "source": []
  },
  {
   "cell_type": "code",
   "execution_count": null,
   "metadata": {
    "executionInfo": {
     "elapsed": 6,
     "status": "aborted",
     "timestamp": 1653163007484,
     "user": {
      "displayName": "Allwin Lucious",
      "userId": "07631666124098189466"
     },
     "user_tz": -120
    },
    "id": "oQUkgBanL5xm"
   },
   "outputs": [],
   "source": []
  }
 ],
 "metadata": {
  "colab": {
   "authorship_tag": "ABX9TyPk3wrdn157U8lYj8zcgDN1",
   "collapsed_sections": [],
   "mount_file_id": "1-KaTL3CHwajy61GVnCJ0ofpNkJLvWiQi",
   "name": "transformer_regression.ipynb",
   "provenance": []
  },
  "kernelspec": {
   "display_name": "Python 3 (ipykernel)",
   "language": "python",
   "name": "python3"
  },
  "language_info": {
   "codemirror_mode": {
    "name": "ipython",
    "version": 3
   },
   "file_extension": ".py",
   "mimetype": "text/x-python",
   "name": "python",
   "nbconvert_exporter": "python",
   "pygments_lexer": "ipython3",
   "version": "3.10.4"
  }
 },
 "nbformat": 4,
 "nbformat_minor": 1
}
